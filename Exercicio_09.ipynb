{
 "cells": [
  {
   "cell_type": "markdown",
   "metadata": {},
   "source": [
    "### Exercicio 09\n",
    "**Nome** Gustavo Ferreira Delfino <br> **Ra**: 817122829"
   ]
  },
  {
   "cell_type": "markdown",
   "metadata": {},
   "source": [
    "1 Faça um Programa que peça o raio de um círculo, calcule e mostre sua área."
   ]
  },
  {
   "cell_type": "code",
   "execution_count": null,
   "metadata": {},
   "outputs": [],
   "source": [
    "raio = int(input('Informe o raio do circulo:'))\n",
    "pi = 3.14159\n",
    "area = (raio * raio) * pi\n",
    "print(\"A area: {}\".format(area))"
   ]
  },
  {
   "cell_type": "markdown",
   "metadata": {},
   "source": [
    "2 Faça um Programa que calcule a área de um quadrado, em seguida mostre o dobro desta área para o usuário. "
   ]
  },
  {
   "cell_type": "code",
   "execution_count": null,
   "metadata": {},
   "outputs": [],
   "source": [
    "quadrado = int(input('Informe o tamanho do lado do quadrado: '))\n",
    "area = quadrado * quadrado\n",
    "dobro = area * area\n",
    "print('Area do quadrado:' , int(area) , ', e seu dobro é:' , int(dobro))"
   ]
  },
  {
   "cell_type": "markdown",
   "metadata": {},
   "source": [
    "3 Faça um Programa que pergunte quanto você ganha por hora e o número de horas trabalhadas no mês. Calcule e mostre o total do seu salário no referido mês"
   ]
  },
  {
   "cell_type": "code",
   "execution_count": null,
   "metadata": {},
   "outputs": [],
   "source": [
    "valor = int(input('Valor que ganha por hora: '))\n",
    "hora = int(input('Horas trabalhadas no mês: '))\n",
    "salario = valor * hora\n",
    "print('Seu salario este mês será de {}'.format(salario))"
   ]
  },
  {
   "cell_type": "markdown",
   "metadata": {},
   "source": [
    "4 Faça um Programa que peça a temperatura em graus Farenheit, transforme e mostre a temperatura em graus Celsius. C = (5 * (F-32) / 9)."
   ]
  },
  {
   "cell_type": "code",
   "execution_count": null,
   "metadata": {},
   "outputs": [],
   "source": [
    "farenheit = int(input('Informe a temperatura em Farenheit:'))\n",
    "conversao = (farenheit - 32)/1.8\n",
    "print('A temperatura em celsius é de{}'.format(conversao))"
   ]
  },
  {
   "cell_type": "markdown",
   "metadata": {},
   "source": [
    "5 Faça um Programa que peça a temperatura em graus Celsius, transforme e mostre em graus Farenheit. "
   ]
  },
  {
   "cell_type": "code",
   "execution_count": null,
   "metadata": {},
   "outputs": [],
   "source": [
    "celsius = int(input('Informe a temperatura em Celius:'))\n",
    "conversao = celsius * 1.8 + 32\n",
    "print('A temperatura em farenheit é de {}'.format(conversao))"
   ]
  },
  {
   "cell_type": "markdown",
   "metadata": {},
   "source": [
    "6 Faça um Programa que peça 2 números inteiros e um número real. Calcule e mostre: \n",
    "    - o produto do dobro do primeiro com metade do segundo . \n",
    "    - a soma do triplo do primeiro com o terceiro. \n",
    "    - o terceiro elevado ao cubo. "
   ]
  },
  {
   "cell_type": "code",
   "execution_count": null,
   "metadata": {},
   "outputs": [],
   "source": [
    "n1 = int(input('Digite o primeiro numero inteiro: '))\n",
    "n2 = int(input('Digite o segundo numero inteiro: '))\n",
    "n3 = float(input('Digite um numero real: '))\n",
    "conta1 = (n1 * 2) + (n2 / 2)\n",
    "conta2 = (n1 * 3) + n3\n",
    "cubo = n3 * n3 * n3\n",
    "print('O produto do dobro do primeiro com metade do segundo é = {}'.format(conta1))\n",
    "print('A soma do triplo do primeiro com o terceiro é = {}'.format(conta2))\n",
    "print('O Numero', n3,' elevado ao cubo da seguinte resultado = {}'.format(cubo))"
   ]
  },
  {
   "cell_type": "markdown",
   "metadata": {},
   "source": [
    "7 João Papo-de-Pescador, homem de bem, comprou um microcomputador para controlar o rendimento diário de seu trabalho. Toda vez que ele traz um peso de peixes maior que o estabelecido pelo regulamento de pesca do estado de São Paulo (50 quilos) deve pagar uma multa de R$ 4,00 por quilo excedente. João precisa que você faça um programa que leia a variável peso (peso de peixes) e verifique se há excesso. Se houver, gravar na variável excesso e na variável multa o valor da multa que João deverá pagar. Caso contrário mostrar tais variáveis com o conteúdo ZERO. "
   ]
  },
  {
   "cell_type": "code",
   "execution_count": null,
   "metadata": {},
   "outputs": [],
   "source": [
    "peso = float(input('Digite o peso dos peixes: '))\n",
    "peso_limite = 50\n",
    "excesso = peso - peso_limite\n",
    "multa = excesso * 4   \n",
    "print('Houve acesso de {}Kg, a multa será de {:.2f}R$'.format(excesso,multa))"
   ]
  },
  {
   "cell_type": "markdown",
   "metadata": {},
   "source": [
    "8 Faça um Programa que pergunte quanto você ganha por hora e o número de horas trabalhadas no mês. Calcule e mostre o total do seu salário no referido mês, sabendo-se que são descontados 11% para o Imposto de Renda, 8% para o INSS e 5% para o sindicato, faça um programa que nos dê: - salário bruto. - quanto pagou ao INSS. - quanto pagou ao sindicato. - o salário líquido. - calcule os descontos e o salário líquido, conforme a tabela abaixo:            \n",
    "    + Salário Bruto : R$            \n",
    "    - IR (11%) : R$            \n",
    "    - INSS (8%) : R$            \n",
    "    - Sindicato ( 5%) : R$ \n",
    "    = Salário Liquido : \n",
    "R$ Obs.: Salário Bruto - Descontos = Salário Líquido."
   ]
  },
  {
   "cell_type": "code",
   "execution_count": null,
   "metadata": {},
   "outputs": [],
   "source": [
    "hora = float(input('Quanto você ganha por hora: '))\n",
    "hora_Mes = float(input('Quantas horas você trabalhou no mês: '))\n",
    "#Salario total\n",
    "salario_Bruto = hora * hora_Mes\n",
    "#Descontos Imposto de Renda\n",
    "imposto_Renda = salario_Bruto * 11 / 100 \n",
    "#Descontos INSS\n",
    "sindicato =  imposto_Renda * 8/100\n",
    "salario_Liquido = salario_Bruto - imposto_Renda - sindicato\n",
    "print('Salario Bruto: {:.2f}$'.format(salario_Bruto))\n",
    "print('IR: {:.2f}$'.format(imposto_Renda))\n",
    "print('INSS: {:.2f}$'.format(sindicato))\n",
    "print('Salario Liquido: {:.2f}$'.format(salario_Liquido))"
   ]
  },
  {
   "cell_type": "markdown",
   "metadata": {},
   "source": [
    "9)Faça um programa que leia 2 strings e informe o conteúdo delas seguido do seu comprimento. Informe também se as duas strings possuem o mesmo comprimento e são iguais ou diferentes no conteúdo. Exemplo: \n",
    "#String 1: Brasil Hexa 2018 \n",
    "#String 2: Brasil! Hexa 2018! \n",
    "#Tamanho de \"Brasil Hexa 2018\": 16 caracteres \n",
    "#Tamanho de \"Brasil! Hexa 2018!\": 18 caracteres \n",
    "#As duas strings são de tamanhos diferentes. As duas strings possuem conteúdo diferente. "
   ]
  },
  {
   "cell_type": "code",
   "execution_count": null,
   "metadata": {},
   "outputs": [],
   "source": [
    "v1 = input('Escreva algo: ')\n",
    "v2 = input('Escreva algo denovo: ')\n",
    "tamanho = len(v1)\n",
    "tamanho2 = len(v2)\n",
    "print('Tamanho de \"{}\":{} caracteres'.format(v1, tamanho))\n",
    "print('Tamanho de \"{}\":{} caracteres'.format(v2, tamanho2))\n",
    "validar = v1 == v2\n",
    "if validar == True:\n",
    "    print('As duas strings são do mesmo tamanho')\n",
    "    print('As duas strings contem o mesmo conteudo')\n",
    "else:\n",
    "    print('As duas strings são de tamanho diferente.')\n",
    "    print('As duas strings possuem conteúdo diferente.')"
   ]
  },
  {
   "cell_type": "markdown",
   "metadata": {},
   "source": [
    "10) Faça um programa que permita ao usuário digitar o seu nome e em seguida mostre o nome do usuário de trás para frente utilizando somente letras maiúsculas. Dica: lembre−se que ao informar o nome o usuário pode digitar letras maiúsculas ou minúsculas. Observação: não use loops."
   ]
  },
  {
   "cell_type": "code",
   "execution_count": 1,
   "metadata": {},
   "outputs": [
    {
     "name": "stdout",
     "output_type": "stream",
     "text": [
      "Digite seu nome: Gustavo\n"
     ]
    },
    {
     "data": {
      "text/plain": [
       "'OVATSUG'"
      ]
     },
     "execution_count": 1,
     "metadata": {},
     "output_type": "execute_result"
    }
   ],
   "source": [
    "nome = input('Digite seu nome: ')\n",
    "inverso = nome[::-1]\n",
    "inverso.upper()"
   ]
  },
  {
   "cell_type": "markdown",
   "metadata": {},
   "source": [
    "11)Faça um programa que solicite a data de nascimento (dd/mm/aaaa) do usuário e imprima a data com o nome do mês por extenso.\n",
    "#Data de Nascimento: 29/10/1973 \n",
    "#Você nasceu em  29 de Outubro de 1973.\n",
    "#Obs.: Não use desvio condicional nem loops. "
   ]
  },
  {
   "cell_type": "code",
   "execution_count": 21,
   "metadata": {},
   "outputs": [
    {
     "name": "stdout",
     "output_type": "stream",
     "text": [
      "Informe sua data de nascimento: 15/11/1998\n",
      "\n",
      "Você nasceu em 15 de Novembro de 1998.\n"
     ]
    }
   ],
   "source": [
    "mes = {\"01\":\"Janeiro\",\"02\": \"Fevereiro\",\"03\": \"Março\",\"04\": \"Abril\",\"05\": \"Maio\",\"06\": \"Junho\",\"07\": \"Julho\",\"08\": \"Agosto\",\n",
    "       \"09\": \"Setembro\",\"10\": \"Outubro\",\"11\": \"Novembro\",\"12\": \"Dezembro\"}\n",
    "\n",
    "\n",
    "nascimento = input('Informe sua data de nascimento: ')\n",
    "x = nascimento.split(\"/\")\n",
    "pegando_Dia = x[0]\n",
    "pegando_Mes = x[1]\n",
    "pegando_Ano = x[2]\n",
    "print()\n",
    "print(f'Você nasceu em {pegando_Dia} de {mes[pegando_Mes]} de {pegando_Ano}.')"
   ]
  },
  {
   "cell_type": "markdown",
   "metadata": {},
   "source": [
    "12 Leet é uma forma de se escrever o alfabeto latino usando outros símbolos em lugar das letras, como números por exemplo. A própria palavra leet admite muitas variações, como l33t ou 1337. O uso do leet reflete uma subcultura relacionada ao mundo dos jogos de computador e internet, sendo muito usada para confundir os iniciantes e afirmar-se como parte de um grupo. Pesquise sobre as principais formas de traduzir as letras. Depois, faça um programa que peça uma texto e transforme-o para a grafia leet speak. Desafio: não use loops nem desvios condicionais. "
   ]
  },
  {
   "cell_type": "code",
   "execution_count": 17,
   "metadata": {},
   "outputs": [
    {
     "name": "stdout",
     "output_type": "stream",
     "text": [
      "Leet Speak:  3(_) 4^^() |^|?()6|?4^^4|? 3^^ |^`/7|-|()/v\n",
      "Mensagem traduzida: Eu amo programar em python\n"
     ]
    }
   ],
   "source": [
    "alfabeto = {\n",
    "    \"a\": \"4\", \"b\": \"8\", \"c\": \"<\", \"d\": \"|>\", \"e\": \"3\", \"f\": \"|#\", \"g\": \"6\", \"h\": \"|-|\", \"i\": \"!\", \"j\": \"</\", \"k\": \"|<\", \n",
    "    \"l\": \"|_\", \"m\": \"^^\", \"n\": \"/V\", \"o\": \"()\", \"p\": \"|^\", \"q\": \"9\", \"r\": \"|?\", \"s\": \"5\", \"t\": \"7\", \"u\": \"(_)\", \"v\": \"v\",\n",
    "    \"w\": \"vv\", \"x\": \"><\", \"y\": \"`/\", \"z\": \"2\"\n",
    "}\n",
    "msg = \"Eu amo programar em python\"\n",
    "recebemsg = msg.lower()\n",
    "\n",
    "recebemsg = recebemsg.replace('a', str(4))\n",
    "recebemsg = recebemsg.replace('e', str(3))\n",
    "recebemsg = recebemsg.replace('o', '()')\n",
    "recebemsg = recebemsg.replace('g', str(6))\n",
    "recebemsg = recebemsg.replace('h', '|-|')\n",
    "recebemsg = recebemsg.replace('m', '^^')\n",
    "recebemsg = recebemsg.replace('n', '/v')\n",
    "recebemsg = recebemsg.replace('p', '|^')\n",
    "recebemsg = recebemsg.replace('r', '|?')\n",
    "recebemsg = recebemsg.replace('s', str(5))\n",
    "recebemsg = recebemsg.replace('t', str(7))\n",
    "recebemsg = recebemsg.replace('u', '(_)')\n",
    "recebemsg = recebemsg.replace('y', '`/')\n",
    "recebemsg = recebemsg.replace('z', str(2))\n",
    "\n",
    "print (\"Leet Speak: \", recebemsg)\n",
    "print (\"Mensagem traduzida:\", msg)"
   ]
  },
  {
   "cell_type": "markdown",
   "metadata": {},
   "source": [
    "13 Crie um programa que recebe uma lista de números e \n",
    "#- retorne o maior elemento \n",
    "#- retorne a soma dos elementos \n",
    "#- retorne o número de ocorrências do primeiro elemento da lista \n",
    "#- retorne a média dos elementos \n",
    "#- retorne o valor mais próximo da média dos elementos \n",
    "#- retorne a soma dos elementos com valor negativo \n",
    "#- retorne a quantidade de vizinhos iguais "
   ]
  },
  {
   "cell_type": "code",
   "execution_count": 18,
   "metadata": {},
   "outputs": [
    {
     "name": "stdout",
     "output_type": "stream",
     "text": [
      "O Maior elemento é:  9\n",
      "A soma dos elementos é:  45\n",
      "O número de ocorrências do primeiro elemento é:  1\n",
      "A média dos elementos é:  4.5\n",
      "Valor mais proximo da media:  4\n",
      "A soma dos elementos em valor negativo é:  -45\n",
      "O número de vizinhos iguais:  1\n"
     ]
    }
   ],
   "source": [
    "lista = [1,2,3,4,5,6,7,8,9,0]\n",
    "media = sum(lista)/len(lista)\n",
    "print('O Maior elemento é: ',max(lista))\n",
    "print('A soma dos elementos é: ',sum(lista))\n",
    "print('O número de ocorrências do primeiro elemento é: ', lista.count(lista[0]))\n",
    "print('A média dos elementos é: ', media)\n",
    "print('Valor mais proximo da media: ', round(media))\n",
    "print('A soma dos elementos em valor negativo é: ',-(sum(lista)))\n",
    "print('O número de vizinhos iguais: ', lista.count(lista[0]))"
   ]
  },
  {
   "cell_type": "markdown",
   "metadata": {},
   "source": [
    "14 Faça um programa que receba duas listas e retorne True se são iguais ou False caso contrario. Duas listas são iguais se possuem os mesmos valores e na mesma ordem. "
   ]
  },
  {
   "cell_type": "code",
   "execution_count": 21,
   "metadata": {},
   "outputs": [
    {
     "data": {
      "text/plain": [
       "True"
      ]
     },
     "execution_count": 21,
     "metadata": {},
     "output_type": "execute_result"
    }
   ],
   "source": [
    "l1 = [1,2,3,4,5]\n",
    "l2 = [1,2,3,5,5]\n",
    "l3 = [1,2,3,4,5]\n",
    "l1[:len(l1)] == l3[:len(l2)]"
   ]
  },
  {
   "cell_type": "markdown",
   "metadata": {},
   "source": [
    "15 Faça um programa que receba duas listas e retorne True se têm os mesmos elementos ou False caso contrário Duas listas possuem os mesmos elementos quando são compostas pelos mesmos valores, mas não obrigatoriamente na mesma ordem. "
   ]
  },
  {
   "cell_type": "code",
   "execution_count": 25,
   "metadata": {},
   "outputs": [
    {
     "data": {
      "text/plain": [
       "False"
      ]
     },
     "execution_count": 25,
     "metadata": {},
     "output_type": "execute_result"
    }
   ],
   "source": [
    "l1 = [1,2,3,4]\n",
    "l2 = [4,3,2,1]\n",
    "l3 = [1,7,2,4]\n",
    "set(l1) == set(l3)"
   ]
  },
  {
   "cell_type": "markdown",
   "metadata": {},
   "source": [
    "16 Faça um programa que percorre uma lista com o seguinte formato: [['Brasil', 'Italia', [10, 9]], ['Brasil', 'Espanha', [5, 7]], ['Italia', 'Espanha', [7,8]]]. Essa lista indica o número de faltas que cada time fez em cada jogo. Na lista acima, no jogo entre Brasil e Itália, o Brasil fez 10 faltas e a Itália fez 9. O programa deve imprimir na tela: - o total de faltas do campeonato  - o time que fez mais faltas - o time que fez menos faltas "
   ]
  },
  {
   "cell_type": "code",
   "execution_count": 26,
   "metadata": {},
   "outputs": [
    {
     "name": "stdout",
     "output_type": "stream",
     "text": [
      "O total de faltas no campeonato foi: 46\n",
      "O time que cometeu maior número de faltas foi: Italia com 16 Infrações\n",
      "O time que cometeu menor número de faltas foi: Brasil com 15 Infrações\n"
     ]
    }
   ],
   "source": [
    "campeonato_lista = [['Brasil', 'Italia', [10, 9]], ['Brasil', 'Espanha', [5, 7]], ['Italia', 'Espanha', [7,8]]]\n",
    "\n",
    "#Primeiro Jogo\n",
    "lista_1 = campeonato_lista[0]\n",
    "soma_faltas_1 = lista_1[2]\n",
    "faltas_brasil_lista_1 = soma_faltas_1[0]\n",
    "faltas_italia_lista_1 = soma_faltas_1[1]\n",
    "\n",
    "#Segundo Jogo\n",
    "lista_2 = campeonato_lista[1]\n",
    "soma_faltas_2 = lista_2[2]\n",
    "faltas_brasil_lista_2 = soma_faltas_2[0]\n",
    "faltas_espanha_lista_2 = soma_faltas_2[1]\n",
    "\n",
    "#Terceiro Jogo\n",
    "lista_3 = campeonato_lista[2]\n",
    "soma_faltas_3 = lista_3[2]\n",
    "faltas_italia_lista_3 = soma_faltas_3[0]\n",
    "faltas_espanha_lista_3 = soma_faltas_3[1]\n",
    "\n",
    "#Faltas do Brasil\n",
    "faltas_brasil = faltas_brasil_lista_1+faltas_brasil_lista_2\n",
    "\n",
    "#Faltas da Espanha\n",
    "faltas_espanha = faltas_espanha_lista_2+faltas_espanha_lista_3\n",
    "\n",
    "#Faltas da Italia\n",
    "faltas_italia = faltas_italia_lista_1+faltas_italia_lista_3\n",
    "\n",
    "\n",
    "#Total de Falta de todos\n",
    "todos = {'Brasil':faltas_brasil,'Espanha':faltas_espanha,'Italia':faltas_italia}\n",
    "total = sum(todos.values())\n",
    "\n",
    "\n",
    "maior_faltas_qtde = max(todos.keys())\n",
    "maior_faltas_time = max(todos.values())\n",
    "menor_faltas_qtde = min(todos.keys())\n",
    "menor_faltas_time = min(todos.values())\n",
    "\n",
    "print(\"O total de faltas no campeonato foi:\" , total)\n",
    "print(\"O time que cometeu maior número de faltas foi:\", maior_faltas_qtde,\"com\", maior_faltas_time, \"Infrações\")\n",
    "print(\"O time que cometeu menor número de faltas foi:\", menor_faltas_qtde,\"com\", menor_faltas_time, \"Infrações\")"
   ]
  },
  {
   "cell_type": "markdown",
   "metadata": {},
   "source": [
    "17 Escreva um programa que conta a quantidade de vogais em uma string e armazena tal quantidade em um dicionário, onde a chave é a vogal considerada. "
   ]
  },
  {
   "cell_type": "code",
   "execution_count": 31,
   "metadata": {},
   "outputs": [
    {
     "name": "stdout",
     "output_type": "stream",
     "text": [
      "{'a': 2, 'e': 2, 'i': 2, 'o': 2, 'u': 0}\n"
     ]
    }
   ],
   "source": [
    "s = 'sistemas de informação'\n",
    "vogais = ['a', 'e', 'i', 'o', 'u']\n",
    "totais = {vogais[0]: s.count(vogais[0]),\n",
    "          vogais[1]: s.count(vogais[1]),\n",
    "          vogais[2]: s.count(vogais[2]),\n",
    "          vogais[3]: s.count(vogais[3]),\n",
    "          vogais[4]: s.count(vogais[4])}\n",
    "print(totais)"
   ]
  },
  {
   "cell_type": "markdown",
   "metadata": {},
   "source": [
    "18 Escreva um programa que lê̂ duas notas de vários alunos e armazena tais notas em um dicionário, onde a chave é o nome do aluno. A entrada de dados deve terminar quando for lida uma string vazia como nome. Escreva uma função que retorna a média do aluno, dado seu nome."
   ]
  },
  {
   "cell_type": "code",
   "execution_count": 30,
   "metadata": {},
   "outputs": [
    {
     "name": "stdout",
     "output_type": "stream",
     "text": [
      "Digite o nome do aluno: Zé\n",
      "A média do aluno é 0.50\n"
     ]
    }
   ],
   "source": [
    "notas = {\"Zé\":[0,1.0], \"Robson\":[10.0,9.75]}\n",
    "aluno = notas.get(input(\"Digite o nome do aluno: \"))\n",
    "nota = float((aluno[0] + aluno[1])/2)\n",
    "\n",
    "print(\"A média do aluno é %.2f\" % nota)"
   ]
  },
  {
   "cell_type": "markdown",
   "metadata": {},
   "source": [
    "19 Uma pista de Kart permite 10 voltas para cada um de 6 corredores. Escreva um programa que leia todos os tempos em segundos e os guarde em um dicionário, onde a chave é o nome do corredor. Ao final diga de quem foi a melhor volta da prova e em que volta; e ainda a classificação final em ordem (1o o campeão). O campeão é o que tem a menor média de tempos. "
   ]
  },
  {
   "cell_type": "code",
   "execution_count": 33,
   "metadata": {},
   "outputs": [
    {
     "name": "stdout",
     "output_type": "stream",
     "text": [
      "Digite o nome do piloto: Gusta\n",
      "Digite o tempo do piloto: 5\n",
      "O campeão é: ['Gusta', 5.0]\n"
     ]
    }
   ],
   "source": [
    "nome = input(\"Digite o nome do piloto: \")\n",
    "kart = [nome]\n",
    "tempo = float(input(\"Digite o tempo do piloto: \"))\n",
    "kart.append(tempo)\n",
    "print(\"O campeão é: {}\".format(kart))"
   ]
  },
  {
   "cell_type": "markdown",
   "metadata": {},
   "source": [
    "20 Escreva um programa para armazenar uma agenda de telefones em um dicionário. Cada pessoa pode ter um ou mais telefones e a chave do dicionário é o nome da pessoa. Seu programa deve ter as seguintes funções: - incluirNovoNome – essa função acrescenta um novo nome na agenda, com um ou mais telefones. Ela deve receber como argumentos o nome e os telefones. - incluirTelefone – essa função acrescenta um telefone em um nome existente na agenda. Caso o nome não exista na agenda, você̂ deve perguntar se a pessoa deseja inclui-lo. Caso a resposta seja afirmativa, use a função anterior para incluir o novo nome. \n",
    "#- excluirTelefone – essa função exclui um telefone de uma pessoa que já está na agenda. Se a pessoa tiver apenas um telefone, ela deve ser excluída da agenda. \n",
    "#- excluirNome – essa função exclui uma pessoa da agenda. \n",
    "#- consultarTelefone – essa função retorna os telefones de uma pessoa na agenda. "
   ]
  },
  {
   "cell_type": "code",
   "execution_count": 34,
   "metadata": {},
   "outputs": [
    {
     "name": "stdout",
     "output_type": "stream",
     "text": [
      "Digite o nome da pessoa para adicionar na agendaGustavo\n",
      "Digite o telefone da pessoa 11980128848\n",
      "Digite o nome da pessoa para excluir um numeroGustavo\n",
      "{'Gustavo': []}\n"
     ]
    }
   ],
   "source": [
    "agendaTelefones = {}\n",
    "\n",
    "\n",
    "\n",
    "def incluirNovoNome():\n",
    "    newName = input('Digite o nome da pessoa para adicionar na agenda')\n",
    "    newNumber = input('Digite o telefone da pessoa ')\n",
    "    agendaTelefones[newName] = [newNumber]\n",
    "    \n",
    "def incluirTelefone():\n",
    "    name = input('Digite o nome da pessoa para adicionar o numero')    \n",
    "    \n",
    "    if not name in agendaTelefones:\n",
    "        print( name  + ' não está na agenda')\n",
    "        \n",
    "        verifica = input('Deseja adicionar esse nome na agenda? Y/N ')\n",
    "        if verifica == 'Y':\n",
    "            incluirNovoNome();\n",
    "        else:\n",
    "            print('Concluido')\n",
    "            \n",
    "    else:\n",
    "        newTel = input('Digite o telefone da pessoa')\n",
    "        \n",
    "    agendaTelefones[name] += [newTel]\n",
    "    \n",
    "def excluirTelefone():\n",
    "    name = input('Digite o nome da pessoa para excluir um numero')\n",
    "    \n",
    "    if agendaTelefones[name] == None:\n",
    "        del agendaTelefones[name]\n",
    "        \n",
    "    else:\n",
    "        agendaTelefones[name].pop()\n",
    "        \n",
    "incluirNovoNome()\n",
    "excluirTelefone()\n",
    "\n",
    "print (agendaTelefones)"
   ]
  },
  {
   "cell_type": "markdown",
   "metadata": {},
   "source": [
    "21 Faça um programa que leia um arquivo texto contendo uma lista de endereços IP e gere um outro arquivo, contendo um relatório dos endereços IP válidos e inválidos. O arquivo de entrada possui o seguinte formato: \n",
    "200.135.80.9\n",
    "192.168.1.1 8.35.67.74 257.32.4.5 85.345.1.2 1.2.3.4 9.8.234.5 192.168.0.256 \n",
    " O arquivo de saída possui o seguinte formato: \n",
    " [Endereços válidos:] 200.135.80.9 192.168.1.1 8.35.67.74 1.2.3.4 \n",
    " [Endereços inválidos:] 257.32.4.5 85.345.1.2 9.8.234.5 192.168.0.256 "
   ]
  },
  {
   "cell_type": "code",
   "execution_count": null,
   "metadata": {
    "scrolled": true
   },
   "outputs": [],
   "source": [
    "def validate_ips(ip_list):\n",
    "    validate_ips = dict()\n",
    "    for ip in ip_list:\n",
    "        if ip in [\"200.135.80.9\", \"192.168.1.1\", \"8.35.67.74\", \"1.2.3.4\"]:\n",
    "            validate_ips[ip] = True\n",
    "        else:\n",
    "            validate_ips[ip] = False\n",
    "    return validate_ips\n",
    "            \n",
    "def create_ip_valid_file(dict_ips, path_new):\n",
    "    with open(path_new, \"w\") as file:\n",
    "        ip_file_new = file\n",
    "        for ip,valid in dict_ips.items():\n",
    "            if (valid):\n",
    "                ip_file_new.write(f\"Valido: {ip} \\n\")\n",
    "            else:\n",
    "                ip_file_new.write(f\"Invalido: {ip} \\n\")\n",
    "\n",
    "        \n",
    "path = \"C:/Users/gusta/Documents/ProgMulti/ips.txt\"\n",
    "path_new = \"C:/Users/gusta/Documents/ProgMulti/ips.txt\"\n",
    "\n",
    "with open(path, \"r\") as file:\n",
    "    ip_list = file.read()\n",
    "\n",
    "ip_list = (ip_list.split(\"\\n\"))\n",
    "ip_dict = validate_ips(ip_list[:-1])\n",
    "\n",
    "create_ip_valid_file(ip_dict, path_new)"
   ]
  },
  {
   "cell_type": "markdown",
   "metadata": {},
   "source": [
    "22 A ACME Inc., uma empresa de 500 funcionários, está tendo problemas de espaço em disco no seu servidor de arquivos. Para tentar resolver este problema, o Administrador de Rede precisa saber qual o espaço ocupado pelos usuários, e identificar os usuários com maior espaço ocupado. Através de um programa, baixado da Internet, ele conseguiu gerar o seguinte arquivo, chamado \"usuarios.txt\": \n",
    " #alexandre       456123789 \n",
    " #anderson        1245698456 \n",
    " #antonio         123456456 \n",
    " #carlos          91257581 \n",
    " #cesar           987458 \n",
    " #rosemary        789456125 \n",
    " \n",
    "Neste arquivo, o nome do usuário possui 15 caracteres. A partir deste arquivo, você deve criar um programa que gere um relatório, chamado \"relatório.txt\", no seguinte formato: \n",
    " ACME Inc.               Uso do espaço em disco pelos usuários ----------------------------------------------------------------------- Nr.  Usuário        Espaço utilizado     % do uso \n",
    " #1    alexandre       434,99 MB             16,85% \n",
    " #2    anderson       1187,99 MB             46,02% \n",
    " #3    antonio         117,73 MB              4,56% \n",
    " #4    carlos           87,03 MB              3,37% \n",
    " #5    cesar             0,94 MB              0,04% \n",
    " #6    rosemary        752,88 MB             29,16% \n",
    " \n",
    " Espaço total ocupado: 2581,57 MB Espaço médio ocupado: 430,26 MB \n",
    " O arquivo de entrada deve ser lido uma única vez, e os dados armazenados em memória, caso sejam necessários, de forma a agilizar a execução do programa. A conversão da espaço ocupado em disco, de bytes para megabytes deverá ser feita através de uma função separada, que será chamada pelo programa principal. O cálculo do percentual de uso também deverá ser feito através de uma função, que será chamada pelo programa principal."
   ]
  },
  {
   "cell_type": "code",
   "execution_count": null,
   "metadata": {},
   "outputs": [],
   "source": [
    "def conv_KB_to_MB(input_kilobyte):\n",
    "        megabyte = float(0.000000976562)\n",
    "        convert_mb = megabyte * input_kilobyte\n",
    "        return float(round(convert_mb, 2))\n",
    "    \n",
    "def calcular_porcentagem_total(size_total, percent_total=100, size_saber=0):\n",
    "    percent_saber = (size_saber*percent_total)/size_total\n",
    "    return round(percent_saber,2)\n",
    "    \n",
    "def transform_to_dict(file):\n",
    "    dict_users = {'Nr':[], \"Usuario\":[], \"Space\":[], \"%Uso\":[], \"Total\": 0, \"Medio\": 0}\n",
    "    splitfile = file.split(\"\\n\")[:-1]\n",
    "    \n",
    "    for idx, user in enumerate(splitfile):\n",
    "        user = (user.split(\" \"))\n",
    "        dict_users[\"Nr\"].append(int(idx))\n",
    "        dict_users[\"Usuario\"].append(user[0])\n",
    "        dict_users[\"Space\"].append(conv_KB_to_MB(int(user[1])))\n",
    "    \n",
    "    total_space = round(sum(dict_users['Space']), 2)\n",
    "    for space in dict_users['Space']:\n",
    "        dict_users['%Uso'].append(calcular_porcentagem_total(total_space, 100, space))\n",
    "    \n",
    "    dict_users['Total'] = total_space\n",
    "    dict_users['Medio'] = round(total_space/len(dict_users['Nr']),2)\n",
    "    \n",
    "    return dict_users\n",
    "    \n",
    "def write_file(path_write, dict_formatado):\n",
    "    with open(path_write, \"w\") as file:\n",
    "        file.write(\"ACME Inc. Uso do espaço em disco pelos usuários\\n\")\n",
    "        file.write(\"-\"*40+\"\\n\")\n",
    "        file.write(\"NR Usuario Space %Use\\n\")\n",
    "        for nr, usuario, space, uso in zip(dict_formatado['Nr'], dict_formatado['Usuario'], dict_formatado['Space'], \n",
    "                                             dict_formatado['%Uso']):\n",
    "            file.write(f\"{nr} {usuario} {space} {uso}%\\n\")\n",
    "        file.write(f\"\\nEspaco Total Ocupado: {dict_formatado['Total']} MB\")\n",
    "        file.write(f\"\\nEspaco Medio Ocupado: {dict_formatado['Medio']} MB\")\n",
    "            \n",
    "                   \n",
    "path_users = \"C:/Users/gusta/Documents/ProgMulti/usuarios.txt\"\n",
    "path_relatorio = \"C:/Users/gusta/Documents/ProgMulti/relatorio.txt\"\n",
    "\n",
    "with open(path_users, \"r\") as file:\n",
    "    users_lists = file.read()\n",
    "\n",
    "dict_formatado = transform_to_dict(users_lists)\n",
    "write_file(path_relatorio, dict_formatado)"
   ]
  }
 ],
 "metadata": {
  "kernelspec": {
   "display_name": "Python 3",
   "language": "python",
   "name": "python3"
  },
  "language_info": {
   "codemirror_mode": {
    "name": "ipython",
    "version": 3
   },
   "file_extension": ".py",
   "mimetype": "text/x-python",
   "name": "python",
   "nbconvert_exporter": "python",
   "pygments_lexer": "ipython3",
   "version": "3.7.3"
  }
 },
 "nbformat": 4,
 "nbformat_minor": 2
}
